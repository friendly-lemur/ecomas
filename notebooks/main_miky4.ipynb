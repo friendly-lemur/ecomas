{
 "cells": [
  {
   "cell_type": "code",
   "execution_count": null,
   "id": "3882f81c-9e0c-46c5-99fb-5f9738b823cd",
   "metadata": {},
   "outputs": [],
   "source": [
    "%run _00config.ipynb\n",
    "%run main_miky1.ipynb\n",
    "%run main_miky2.ipynb"
   ]
  },
  {
   "cell_type": "code",
   "execution_count": null,
   "id": "80aaba7d-53b1-469d-960d-86dddafe53b4",
   "metadata": {},
   "outputs": [],
   "source": [
    "sns.set_style(\"darkgrid\")"
   ]
  },
  {
   "cell_type": "code",
   "execution_count": null,
   "id": "308cbbbb-cbca-431b-9ace-72cc20ecc1a6",
   "metadata": {},
   "outputs": [],
   "source": [
    "import random\n",
    "random.seed(42)"
   ]
  },
  {
   "cell_type": "markdown",
   "id": "7b3d1e45",
   "metadata": {},
   "source": [
    "## 4. Batch-Run"
   ]
  },
  {
   "cell_type": "code",
   "execution_count": null,
   "id": "2a3a3d5c",
   "metadata": {},
   "outputs": [],
   "source": [
    "N_agents = 40\n",
    "Price = 10\n",
    "Last_Price = Price\n",
    "p_savers = 0.20\n",
    "p_followers = 0.10\n",
    "p_whales = 0.05\n",
    "savers_sentiment = 0.60\n",
    "p_passing_followers = 0.7\n",
    "p_passing_whales = 0.5\n",
    "\n",
    "prm_grid = {\n",
    "    'N_agents': N_agents,\n",
    "    'Price': Price,\n",
    "    'p_savers': p_savers,\n",
    "    'p_followers': p_followers,\n",
    "    'p_whales': p_whales,\n",
    "    'p_passing_followers': p_passing_followers,\n",
    "    'p_passing_whales': p_passing_whales,\n",
    "    'savers_sentiment': np.arange(0.20, 1.00, 0.10)\n",
    "}"
   ]
  },
  {
   "cell_type": "code",
   "execution_count": null,
   "id": "257b4869",
   "metadata": {
    "tags": []
   },
   "outputs": [],
   "source": [
    "results = mesa.batch_run(\n",
    "    Market_Model_4,\n",
    "    parameters=prm_grid,\n",
    "    iterations=100,\n",
    "    max_steps=200,\n",
    "    number_processes=1,\n",
    "    data_collection_period=1,\n",
    "    display_progress=False\n",
    ")"
   ]
  },
  {
   "cell_type": "code",
   "execution_count": null,
   "id": "23fb22d9",
   "metadata": {},
   "outputs": [],
   "source": [
    "results_df = pd.DataFrame(results)\n",
    "display(results_df)"
   ]
  },
  {
   "cell_type": "code",
   "execution_count": null,
   "id": "66cd5a0a",
   "metadata": {},
   "outputs": [],
   "source": [
    "sns.relplot(\n",
    "    data = results_df, kind = 'line',\n",
    "    x = 'Step', y = 'Price', hue = 'savers_sentiment',\n",
    "    units = 'iteration', estimator = None\n",
    ")"
   ]
  },
  {
   "cell_type": "code",
   "execution_count": null,
   "id": "24ff1f0b",
   "metadata": {},
   "outputs": [],
   "source": [
    "# this is a plot with mean values for each model parameter, with 95% confidence interval error band\n",
    "sns.relplot(\n",
    "    data = results_df, kind = 'line',\n",
    "    x = 'Step', y = 'Price', hue = 'savers_sentiment'\n",
    ")"
   ]
  },
  {
   "cell_type": "code",
   "execution_count": null,
   "id": "b8818566",
   "metadata": {},
   "outputs": [],
   "source": [
    "_ = results_df[ results_df['savers_sentiment'] == results_df['savers_sentiment'].unique()[1]]"
   ]
  },
  {
   "cell_type": "code",
   "execution_count": null,
   "id": "aa6c32f7",
   "metadata": {},
   "outputs": [],
   "source": [
    "display(_)"
   ]
  },
  {
   "cell_type": "code",
   "execution_count": null,
   "id": "92efb498",
   "metadata": {},
   "outputs": [],
   "source": [
    "# But we are interested in a mean + std dev plot"
   ]
  },
  {
   "cell_type": "code",
   "execution_count": null,
   "id": "484f4b96",
   "metadata": {},
   "outputs": [],
   "source": [
    "# Take a look at all runs for a given DOF, in this case for a given value of savers_sentiment\n",
    "sns.relplot(\n",
    "    data = _, kind = \"line\",\n",
    "    x = \"Step\", y = \"Price\", hue = 'iteration', palette=\"ch:r=-.5,l=.75\",\n",
    "    estimator = None\n",
    ")"
   ]
  },
  {
   "cell_type": "code",
   "execution_count": null,
   "id": "ab9b910a",
   "metadata": {},
   "outputs": [],
   "source": [
    "sns.relplot(\n",
    "    data = _[ _['iteration'] == 5], kind=\"line\",\n",
    "    x=\"Step\", y=\"Price\",\n",
    ")"
   ]
  },
  {
   "cell_type": "code",
   "execution_count": null,
   "id": "11a9987c",
   "metadata": {},
   "outputs": [],
   "source": [
    "_ = results_df[ results_df['savers_sentiment'] == results_df['savers_sentiment'].unique()[2]]\n",
    "\n",
    "it = _['iteration'].unique().tolist()\n",
    "it.pop(0)\n",
    "\n",
    "_df = _[ _['iteration'] == 0].drop(columns = ['iteration'])\n",
    "arr = np.arange(0, len(_df.dropna()), N_agents)\n",
    "array_Price_values = _df.dropna().take(arr).Price.values\n",
    "\n",
    "array_Step_values = _df.dropna().take(arr).Step.values\n",
    "\n",
    "for el in it:\n",
    "    \n",
    "    _df = _[ _['iteration'] == el].drop(columns = ['iteration'])\n",
    "    arr = np.arange(0, len(_df.dropna()), N_agents)\n",
    "    array_Price_values_new = _df.dropna().take(arr).Price.values\n",
    "    \n",
    "    array_Price_values = np.vstack((array_Price_values, array_Price_values_new))"
   ]
  },
  {
   "cell_type": "code",
   "execution_count": null,
   "id": "8bc6e762",
   "metadata": {},
   "outputs": [],
   "source": [
    "mean_Price_values = np.mean(array_Price_values, axis = 0)\n",
    "std_Price_values = np.std(array_Price_values, axis = 0)"
   ]
  },
  {
   "cell_type": "code",
   "execution_count": null,
   "id": "21624ec3",
   "metadata": {},
   "outputs": [],
   "source": [
    "import matplotlib.pyplot as plt"
   ]
  },
  {
   "cell_type": "code",
   "execution_count": null,
   "id": "7dde0f59",
   "metadata": {},
   "outputs": [],
   "source": [
    "plt.figure()\n",
    "\n",
    "fig, ax = plt.subplots(figsize=(6, 6))\n",
    "\n",
    "ax.plot(array_Step_values, mean_Price_values, alpha=.3, label= 'mean on 10 iterations', color='blue')\n",
    "ax.set(title = 'Generated Prices, savers_sentiment: {}'.format(results_df['savers_sentiment'].unique()[2]),\n",
    "            xlabel = 'Step', ylabel = 'Price')\n",
    "ax.fill_between(\n",
    "    array_Step_values,\n",
    "    mean_Price_values - std_Price_values,\n",
    "    mean_Price_values + std_Price_values,\n",
    "    alpha=0.1,\n",
    "    color=\"navy\",\n",
    "    lw=1,\n",
    ")\n",
    "\n",
    "plt.legend()\n",
    "plt.show()"
   ]
  },
  {
   "cell_type": "code",
   "execution_count": null,
   "id": "9d7e7214",
   "metadata": {},
   "outputs": [],
   "source": []
  }
 ],
 "metadata": {
  "kernelspec": {
   "display_name": "Python 3 (ipykernel)",
   "language": "python",
   "name": "python3"
  },
  "language_info": {
   "codemirror_mode": {
    "name": "ipython",
    "version": 3
   },
   "file_extension": ".py",
   "mimetype": "text/x-python",
   "name": "python",
   "nbconvert_exporter": "python",
   "pygments_lexer": "ipython3",
   "version": "3.10.8"
  }
 },
 "nbformat": 4,
 "nbformat_minor": 5
}
