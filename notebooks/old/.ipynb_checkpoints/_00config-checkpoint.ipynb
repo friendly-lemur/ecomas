{
 "cells": [
  {
   "cell_type": "code",
   "execution_count": null,
   "id": "3fc70cbe-f04f-422e-842f-fbd7529c3a93",
   "metadata": {},
   "outputs": [],
   "source": [
    "# load scripts\n",
    "import sys\n",
    "sys.path += ['../src/']\n",
    "\n",
    "#from init_agents import init_savers"
   ]
  },
  {
   "cell_type": "code",
   "execution_count": null,
   "id": "d3273e3f-dca3-4414-88e6-07eca64af80f",
   "metadata": {},
   "outputs": [],
   "source": [
    "import numpy as np\n",
    "import pandas as pd"
   ]
  },
  {
   "cell_type": "code",
   "execution_count": null,
   "id": "7549deaf-c25d-4cbc-a20c-311b3a2c4573",
   "metadata": {},
   "outputs": [],
   "source": [
    "from matplotlib import pyplot as plt\n",
    "import seaborn as sns"
   ]
  },
  {
   "cell_type": "code",
   "execution_count": null,
   "id": "6f1b4c0d-cd3e-49a5-be20-fed1afd25380",
   "metadata": {},
   "outputs": [],
   "source": [
    "import mesa\n",
    "from mesa.time import BaseScheduler\n",
    "from mesa.datacollection import DataCollector"
   ]
  }
 ],
 "metadata": {
  "kernelspec": {
   "display_name": "Python 3 (ipykernel)",
   "language": "python",
   "name": "python3"
  },
  "language_info": {
   "codemirror_mode": {
    "name": "ipython",
    "version": 3
   },
   "file_extension": ".py",
   "mimetype": "text/x-python",
   "name": "python",
   "nbconvert_exporter": "python",
   "pygments_lexer": "ipython3",
   "version": "3.10.8"
  }
 },
 "nbformat": 4,
 "nbformat_minor": 5
}
